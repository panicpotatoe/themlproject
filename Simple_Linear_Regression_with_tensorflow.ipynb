{
  "nbformat": 4,
  "nbformat_minor": 0,
  "metadata": {
    "colab": {
      "name": "Simple Linear Regression with tensorflow.ipynb",
      "provenance": [],
      "collapsed_sections": []
    },
    "kernelspec": {
      "name": "python3",
      "display_name": "Python 3"
    }
  },
  "cells": [
    {
      "cell_type": "markdown",
      "metadata": {
        "id": "3bx9bUuHT6Nw",
        "colab_type": "text"
      },
      "source": [
        "# Simple Linear Regression with Tensorflow\n",
        "We will start by importing the necessary libraries. We will use Numpy along with Tensorflow for computations and Matplotlib for plotting.\n",
        "\n",
        "Datasource: [Salary_Data.csv](https://drive.google.com/open?id=1-m7kvNCXuxndU1iNvYIM3oaAL3OYv3km)"
      ]
    },
    {
      "cell_type": "code",
      "metadata": {
        "id": "w7_v4qyZTzJ8",
        "colab_type": "code",
        "colab": {}
      },
      "source": [
        "# Import important libraries\n",
        "import numpy as np\n",
        "import pandas as pd\n",
        "import matplotlib.pyplot as plt\n",
        "import statsmodels.api as sm\n",
        "import tensorflow as tf\n",
        "import seaborn\n",
        "seaborn.set()"
      ],
      "execution_count": 0,
      "outputs": []
    },
    {
      "cell_type": "markdown",
      "metadata": {
        "id": "WwWFncPjUQEr",
        "colab_type": "text"
      },
      "source": [
        "In order to make the random numbers predictable, we will define fixed seeds for both Numpy and Tensorflow."
      ]
    },
    {
      "cell_type": "code",
      "metadata": {
        "id": "P6ROmz5TeW3f",
        "colab_type": "code",
        "outputId": "90d37506-1ad7-4611-c0d2-8a87256986e5",
        "colab": {
          "base_uri": "https://localhost:8080/",
          "height": 34
        }
      },
      "source": [
        "# Read file from Google Drive\n",
        "from google.colab import drive\n",
        "drive.mount('/content/drive')"
      ],
      "execution_count": 0,
      "outputs": [
        {
          "output_type": "stream",
          "text": [
            "Drive already mounted at /content/drive; to attempt to forcibly remount, call drive.mount(\"/content/drive\", force_remount=True).\n"
          ],
          "name": "stdout"
        }
      ]
    },
    {
      "cell_type": "code",
      "metadata": {
        "id": "8Iu1kIlYeZ-2",
        "colab_type": "code",
        "outputId": "5219a4b2-0991-43c2-9b66-22ddad1bc983",
        "colab": {
          "base_uri": "https://localhost:8080/",
          "height": 170
        }
      },
      "source": [
        "# Assign data tovariable and check the description\n",
        "data = pd.read_csv('drive/My Drive/dataset/Salary_Data.csv')\n",
        "describe = data.describe()\n",
        "print(describe)"
      ],
      "execution_count": 0,
      "outputs": [
        {
          "output_type": "stream",
          "text": [
            "       YearsExperience         Salary\n",
            "count        30.000000      30.000000\n",
            "mean          5.313333   76003.000000\n",
            "std           2.837888   27414.429785\n",
            "min           1.100000   37731.000000\n",
            "25%           3.200000   56720.750000\n",
            "50%           4.700000   65237.000000\n",
            "75%           7.700000  100544.750000\n",
            "max          10.500000  122391.000000\n"
          ],
          "name": "stdout"
        }
      ]
    },
    {
      "cell_type": "code",
      "metadata": {
        "id": "I4r5wLMVegHK",
        "colab_type": "code",
        "outputId": "c94a5346-46aa-4c71-8e60-d1f355186179",
        "colab": {
          "base_uri": "https://localhost:8080/",
          "height": 297
        }
      },
      "source": [
        "# Define x1, y\n",
        "y = data['Salary']\n",
        "x1 = data['YearsExperience']\n",
        "\n",
        "# Plotting\n",
        "plt.scatter(x1, y)\n",
        "plt.xlabel('YearsExperience', fontsize=20)\n",
        "plt.ylabel('Salary', fontsize=20)\n",
        "plt.show()"
      ],
      "execution_count": 0,
      "outputs": [
        {
          "output_type": "display_data",
          "data": {
            "image/png": "[encoded data removed]",
            "text/plain": [
              "<Figure size 432x288 with 1 Axes>"
            ]
          },
          "metadata": {
            "tags": []
          }
        }
      ]
    },
    {
      "cell_type": "code",
      "metadata": {
        "id": "cCV-aPo5eoeZ",
        "colab_type": "code",
        "colab": {}
      },
      "source": [
        "n = len(x1) # Number of data points\n",
        "\n",
        "#print(x1)\n",
        "#print(y)"
      ],
      "execution_count": 0,
      "outputs": []
    },
    {
      "cell_type": "markdown",
      "metadata": {
        "id": "YtIwnaTtUtXG",
        "colab_type": "text"
      },
      "source": [
        "Now we will start creating our model by defining the **placeholders** X and Y, so that we can feed our training examples X and Y into the **optimizer** during the training process."
      ]
    },
    {
      "cell_type": "code",
      "metadata": {
        "id": "3_qrF7Y6U1Nx",
        "colab_type": "code",
        "colab": {}
      },
      "source": [
        "X = tf.placeholder(\"float\")\n",
        "Y = tf.placeholder(\"float\")"
      ],
      "execution_count": 0,
      "outputs": []
    },
    {
      "cell_type": "markdown",
      "metadata": {
        "id": "DNH3uGPmU3xA",
        "colab_type": "text"
      },
      "source": [
        "Now we will declare two trainable Tensorflow **Variables** for the Weights and Bias and initializing them randomly using `np.random.randn()`."
      ]
    },
    {
      "cell_type": "code",
      "metadata": {
        "id": "UJfzuTrqU9Zp",
        "colab_type": "code",
        "colab": {}
      },
      "source": [
        "W = tf.Variable(np.random.randn(), name = \"W\")\n",
        "b = tf.Variable(np.random.randn(), name = \"b\")"
      ],
      "execution_count": 0,
      "outputs": []
    },
    {
      "cell_type": "code",
      "metadata": {
        "id": "XMBttFFJRS9s",
        "colab_type": "code",
        "outputId": "1fc7c490-a73d-4dd1-8f85-8efc681ee95a",
        "colab": {
          "base_uri": "https://localhost:8080/",
          "height": 34
        }
      },
      "source": [
        "\"\"\"\n",
        "print(X)\n",
        "print(Y)\n",
        "print(x1)\n",
        "print(y)\n",
        "print(W)\n",
        "print(b)\n",
        "\"\"\""
      ],
      "execution_count": 0,
      "outputs": [
        {
          "output_type": "execute_result",
          "data": {
            "text/plain": [
              "'\\nprint(X)\\nprint(Y)\\nprint(x1)\\nprint(y)\\nprint(W)\\nprint(b)\\n'"
            ]
          },
          "metadata": {
            "tags": []
          },
          "execution_count": 8
        }
      ]
    },
    {
      "cell_type": "markdown",
      "metadata": {
        "id": "XcsrYbjwU_Wz",
        "colab_type": "text"
      },
      "source": [
        "Now we will define the hyperparameters of the model, the Learning Rate and the number of Epochs."
      ]
    },
    {
      "cell_type": "code",
      "metadata": {
        "id": "ekWq8l2zVBtN",
        "colab_type": "code",
        "colab": {}
      },
      "source": [
        "learning_rate = 0.01\n",
        "training_epochs = 10000"
      ],
      "execution_count": 0,
      "outputs": []
    },
    {
      "cell_type": "markdown",
      "metadata": {
        "id": "i_hUSkcUVDt7",
        "colab_type": "text"
      },
      "source": [
        "Now, we will be building the Hypothesis, the Cost Function and the Optimizer. We won’t be implementing the Gradient Descent Optimizer manually since it is built inside Tensorflow. After that, we will be initializing the Variables."
      ]
    },
    {
      "cell_type": "code",
      "metadata": {
        "id": "da5TJoH_VHCj",
        "colab_type": "code",
        "outputId": "a8fa6cc1-ae78-4a89-d427-aa4f8ada3ac8",
        "colab": {
          "base_uri": "https://localhost:8080/",
          "height": 105
        }
      },
      "source": [
        "# Hypothesis of y=(W*X)+b\n",
        "y_pred = tf.add(tf.multiply(X, W), b)\n",
        "\n",
        "# Finding Loss using tf.reduce_sum\n",
        "# Mean Squared Error Cost Function\n",
        "loss = tf.reduce_sum(tf.pow(y_pred-Y, 2)) / (2 * n)\n",
        "\n",
        "# Gradient Descent Optimizer\n",
        "optimizer = tf.train.GradientDescentOptimizer(learning_rate).minimize(loss)\n",
        "\n",
        "# Global Variables Initializer\n",
        "init = tf.global_variables_initializer()"
      ],
      "execution_count": 0,
      "outputs": [
        {
          "output_type": "stream",
          "text": [
            "WARNING: Logging before flag parsing goes to stderr.\n",
            "W0828 09:16:40.891565 140183717132160 deprecation.py:323] From /usr/local/lib/python3.6/dist-packages/tensorflow/python/ops/math_grad.py:1205: add_dispatch_support.<locals>.wrapper (from tensorflow.python.ops.array_ops) is deprecated and will be removed in a future version.\n",
            "Instructions for updating:\n",
            "Use tf.where in 2.0, which has the same broadcast rule as np.where\n"
          ],
          "name": "stderr"
        }
      ]
    },
    {
      "cell_type": "markdown",
      "metadata": {
        "id": "xJw2hpLYVJj7",
        "colab_type": "text"
      },
      "source": [
        "Now we will begin the training process inside a Tensorflow Session."
      ]
    },
    {
      "cell_type": "markdown",
      "metadata": {
        "id": "HYIalOyRHwMz",
        "colab_type": "text"
      },
      "source": [
        "Just try yourself with many Epoch value and examine how Tensoflow build the best model. You can run 3 test as below and then examine the model by visualizing it and compare how the model changes by each case. Below are some test hints:\n",
        "\n",
        "\n",
        "- **Case 1: Epoch = 100: The best case will be at Epoch 100**\n",
        "> Training loss = 5.7912707 Weight = 0.99812365 bias = 1.0914398\n",
        "\n",
        "- **Case 2: Epoch = 1,000: The best case will be at Epoch 1,000**\n",
        "> Training loss = 5.3110337 Weight = 1.0199214 bias = 0.02561676\n",
        "\n",
        "- **Case 3: Epoch = 10,000: The best case will be at Epoch 5103 (from this epoch and so on, the values won't change)**\n",
        "> Training loss = 5.2713084 Weight = 1.0232038 bias = -0.13488421"
      ]
    },
    {
      "cell_type": "code",
      "metadata": {
        "id": "RgBX1iLbVMBN",
        "colab_type": "code",
        "outputId": "a2d7403c-fcb7-47c3-ee6b-9e805c10bcb8",
        "colab": {
          "base_uri": "https://localhost:8080/",
          "height": 867
        }
      },
      "source": [
        "# Starting the Tensorflow Session\n",
        "with tf.Session() as sess:\n",
        "    \n",
        "    # Initializing the Variables\n",
        "    sess.run(init)\n",
        "    \n",
        "    # Temp value to store previous value of experiment\n",
        "    temp_val = \"\"\n",
        "    \n",
        "    # Iterating through all the epochs\n",
        "    for epoch in range(training_epochs):\n",
        "        \n",
        "        # Feeding each data point into the optimizer using Feed Dictionary\n",
        "        for (_x, _y) in zip(x1, y):\n",
        "            sess.run(optimizer, feed_dict = {X : _x, Y : _y})\n",
        "        \n",
        "        # Calculating the loss a every epoch\n",
        "        c = sess.run(loss, feed_dict = {X : x1, Y : y})\n",
        "        current_val = \"loss=\\t\" + \"{:10.8f}\".format(c) \\\n",
        "        + \"\\tW=\\t\" + \"{:10.8f}\".format(sess.run(W)) \\\n",
        "        + \"\\tb=\\t\" + \"{:10.8f}\".format(sess.run(b))\n",
        "        \n",
        "        # Keep looping if current experiment has different result from previous\n",
        "        if temp_val != current_val:\n",
        "            temp_val = current_val\n",
        "            \n",
        "            # Displaying the result after every 100 epochs\n",
        "            if epoch % 100 == 0:\n",
        "                print(\"Epoch=\\t\" + str(epoch) + \"\\t\" + current_val)\n",
        "\n",
        "        # Break the loop if it reaches to the best result\n",
        "        else:\n",
        "            print(\"Reached the best model at Epoch\", epoch)\n",
        "            print(\"Epoch=\\t\" + str(epoch) + \"\\t\" + current_val)\n",
        "            break\n",
        "    \n",
        "    # Storing necessary values to be used outside the Session\n",
        "    training_loss = sess.run(loss, feed_dict ={X: x1, Y: y})\n",
        "    weight = sess.run(W)\n",
        "    bias = sess.run(b)"
      ],
      "execution_count": 0,
      "outputs": [
        {
          "output_type": "stream",
          "text": [
            "Epoch=\t0\tloss=\t1601161088.00000000\tW=\t3977.41552734\tb=\t667.31097412\n",
            "Epoch=\t100\tloss=\t55700324.00000000\tW=\t12168.33203125\tb=\t6594.54199219\n",
            "Epoch=\t200\tloss=\t41784284.00000000\tW=\t11644.50097656\tb=\t10284.24804688\n",
            "Epoch=\t300\tloss=\t32691988.00000000\tW=\t11220.79101562\tb=\t13268.70214844\n",
            "Epoch=\t400\tloss=\t26753232.00000000\tW=\t10878.06933594\tb=\t15682.73242188\n",
            "Epoch=\t500\tloss=\t22875898.00000000\tW=\t10600.85937500\tb=\t17635.31054688\n",
            "Epoch=\t600\tloss=\t20345610.00000000\tW=\t10376.62597656\tb=\t19214.70898438\n",
            "Epoch=\t700\tloss=\t18695442.00000000\tW=\t10195.25781250\tb=\t20492.21679688\n",
            "Epoch=\t800\tloss=\t17620062.00000000\tW=\t10048.55371094\tb=\t21525.56445312\n",
            "Epoch=\t900\tloss=\t16919996.00000000\tW=\t9929.89746094\tb=\t22361.33789062\n",
            "Epoch=\t1000\tloss=\t16464755.00000000\tW=\t9833.91992188\tb=\t23037.37109375\n",
            "Epoch=\t1100\tloss=\t16169161.00000000\tW=\t9756.28320312\tb=\t23584.20312500\n",
            "Epoch=\t1200\tloss=\t15977601.00000000\tW=\t9693.49023438\tb=\t24026.51367188\n",
            "Epoch=\t1300\tloss=\t15853743.00000000\tW=\t9642.69238281\tb=\t24384.29882812\n",
            "Epoch=\t1400\tloss=\t15773917.00000000\tW=\t9601.61425781\tb=\t24673.64843750\n",
            "Epoch=\t1500\tloss=\t15722634.00000000\tW=\t9568.37890625\tb=\t24907.75390625\n",
            "Epoch=\t1600\tloss=\t15689879.00000000\tW=\t9541.50097656\tb=\t25097.09375000\n",
            "Epoch=\t1700\tloss=\t15669082.00000000\tW=\t9519.75976562\tb=\t25250.20507812\n",
            "Epoch=\t1800\tloss=\t15655988.00000000\tW=\t9502.17089844\tb=\t25374.09375000\n",
            "Epoch=\t1900\tloss=\t15647832.00000000\tW=\t9487.94824219\tb=\t25474.28320312\n",
            "Epoch=\t2000\tloss=\t15642831.00000000\tW=\t9476.44042969\tb=\t25555.32812500\n",
            "Epoch=\t2100\tloss=\t15639837.00000000\tW=\t9467.13964844\tb=\t25620.83007812\n",
            "Epoch=\t2200\tloss=\t15638085.00000000\tW=\t9459.60644531\tb=\t25673.91796875\n",
            "Epoch=\t2300\tloss=\t15637123.00000000\tW=\t9453.51171875\tb=\t25716.84570312\n",
            "Epoch=\t2400\tloss=\t15636635.00000000\tW=\t9448.58496094\tb=\t25751.52929688\n",
            "Epoch=\t2500\tloss=\t15636431.00000000\tW=\t9444.61132812\tb=\t25779.50195312\n",
            "Epoch=\t2600\tloss=\t15636400.00000000\tW=\t9441.38671875\tb=\t25802.24609375\n",
            "Epoch=\t2700\tloss=\t15636442.00000000\tW=\t9438.81054688\tb=\t25820.39453125\n",
            "Epoch=\t2800\tloss=\t15636539.00000000\tW=\t9436.68457031\tb=\t25835.35156250\n",
            "Epoch=\t2900\tloss=\t15636648.00000000\tW=\t9434.96582031\tb=\t25847.44921875\n",
            "Epoch=\t3000\tloss=\t15636762.00000000\tW=\t9433.57910156\tb=\t25857.21093750\n",
            "Epoch=\t3100\tloss=\t15636869.00000000\tW=\t9432.47851562\tb=\t25864.95507812\n",
            "Epoch=\t3200\tloss=\t15636965.00000000\tW=\t9431.57714844\tb=\t25871.35156250\n",
            "Epoch=\t3300\tloss=\t15637047.00000000\tW=\t9430.83691406\tb=\t25876.54296875\n",
            "Epoch=\t3400\tloss=\t15637127.00000000\tW=\t9430.20898438\tb=\t25880.97656250\n",
            "Epoch=\t3500\tloss=\t15637189.00000000\tW=\t9429.71972656\tb=\t25884.39062500\n",
            "Epoch=\t3600\tloss=\t15637241.00000000\tW=\t9429.37207031\tb=\t25886.82226562\n",
            "Epoch=\t3700\tloss=\t15637280.00000000\tW=\t9429.08691406\tb=\t25888.85546875\n",
            "Epoch=\t3800\tloss=\t15637316.00000000\tW=\t9428.79003906\tb=\t25890.97656250\n",
            "Epoch=\t3900\tloss=\t15637348.00000000\tW=\t9428.56347656\tb=\t25892.57031250\n",
            "Epoch=\t4000\tloss=\t15637370.00000000\tW=\t9428.41113281\tb=\t25893.64843750\n",
            "Epoch=\t4100\tloss=\t15637394.00000000\tW=\t9428.26269531\tb=\t25894.67578125\n",
            "Epoch=\t4200\tloss=\t15637415.00000000\tW=\t9428.10546875\tb=\t25895.79687500\n",
            "Epoch=\t4300\tloss=\t15637430.00000000\tW=\t9428.00000000\tb=\t25896.50585938\n",
            "Epoch=\t4400\tloss=\t15637446.00000000\tW=\t9427.91601562\tb=\t25897.15429688\n",
            "Epoch=\t4500\tloss=\t15637455.00000000\tW=\t9427.83300781\tb=\t25897.74023438\n",
            "Epoch=\t4600\tloss=\t15637472.00000000\tW=\t9427.73925781\tb=\t25898.31250000\n",
            "Epoch=\t4700\tloss=\t15637474.00000000\tW=\t9427.70605469\tb=\t25898.59179688\n",
            "Reached the best model at Epoch 4728\n",
            "Epoch=\t4728\tloss=\t15637472.00000000\tW=\t9427.70117188\tb=\t25898.64453125\n"
          ],
          "name": "stdout"
        }
      ]
    },
    {
      "cell_type": "markdown",
      "metadata": {
        "id": "hwLLlOGFVO-O",
        "colab_type": "text"
      },
      "source": [
        "Now let's look at the result."
      ]
    },
    {
      "cell_type": "code",
      "metadata": {
        "id": "b_CTOAQwVTin",
        "colab_type": "code",
        "outputId": "a9fbf29a-e4a2-4824-8491-4115d8d2d94a",
        "colab": {
          "base_uri": "https://localhost:8080/",
          "height": 51
        }
      },
      "source": [
        "# Calculating the predictions\n",
        "predictions = weight * x1 + bias\n",
        "print(\"Training loss =\", training_loss, \"Weight =\", weight, \"bias =\", bias, '\\n')"
      ],
      "execution_count": 0,
      "outputs": [
        {
          "output_type": "stream",
          "text": [
            "Training loss = 15637472.0 Weight = 9427.701 bias = 25898.645 \n",
            "\n"
          ],
          "name": "stdout"
        }
      ]
    },
    {
      "cell_type": "markdown",
      "metadata": {
        "id": "9-onkZ6yVVkx",
        "colab_type": "text"
      },
      "source": [
        "Note that in this case both the Weight and bias are scalars. This is because, we have considered only one dependent variable in out training data. If we have m dependent variables in our training dataset, the Weight will be an m-dimensional vector while bias will be a scalar.\n",
        "\n",
        "Finally, we will plot our result."
      ]
    },
    {
      "cell_type": "code",
      "metadata": {
        "id": "qNT4BuCPVX53",
        "colab_type": "code",
        "outputId": "cc6f17c9-9c4b-4991-9725-9a889013c58f",
        "colab": {
          "base_uri": "https://localhost:8080/",
          "height": 284
        }
      },
      "source": [
        "# Plotting the Results\n",
        "plt.plot(x1, y, 'ro', label ='Original data')\n",
        "plt.plot(x1, predictions, label ='Fitted line')\n",
        "plt.title('Linear Regression Result')\n",
        "plt.legend()\n",
        "plt.show()"
      ],
      "execution_count": 0,
      "outputs": [
        {
          "output_type": "display_data",
          "data": {
            "image/png": "[encoded data removed]",
            "text/plain": [
              "<Figure size 432x288 with 1 Axes>"
            ]
          },
          "metadata": {
            "tags": []
          }
        }
      ]
    }
  ]
}